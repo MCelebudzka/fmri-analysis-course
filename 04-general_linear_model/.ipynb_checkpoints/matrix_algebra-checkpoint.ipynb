{
 "cells": [
  {
   "cell_type": "markdown",
   "metadata": {},
   "source": [
    "## Statistical terms\n",
    "\n",
    "\n",
    "**Probability** - the expected relative frequency of a particular outcome\n",
    "\n",
    "P(heads) = 0.5 --> discrete distribution\n",
    "P(height>69) = 0.3 --> contious distribution\n",
    "\n",
    "**Random variable** (RV) - variable determined by random experiment\n",
    "\n",
    "P(H>h) --> probability that height is larger than some observed height h\n",
    "\n",
    "**Probability distribution, f(h)**\n",
    "- describes the distribution of a random variable\n",
    "- area under pdf fives probability\n",
    "\n",
    "\n",
    "What distribution do we use?\n",
    "* typically assume normal (Gaussian)\n",
    "* functions of normals give other popular distributions\n",
    "- Chisquare is the square of a normal\n",
    "-  T involves a normal and a chisquares\n",
    "-  F is the ratio of two chisquares\n",
    "\n",
    "**Expected value** - the mean of a random variable (E[Y])\n",
    "\n",
    "**Variance** - how the values of the RV are dispersed about the mean\n",
    "**Covariance** - how much 2RV's vary together\n",
    "- $Cov[X,Y] = E[(X - E[X])(Y - E[Y])]$\n",
    "- if two RC's are independent, $Cov[x, Y] = 0$ BUT the oposite is not true \n",
    "\n",
    "**Bias** and **variance** can be used to assess an estimator\n",
    "- **Estimator** - equation that estimates a parameter for you\n",
    "- **Bias**: on average, the estimate is correct\n",
    "- **Variance**: the reliability of the estimate\n",
    "\n",
    "How do we quantify the quality of an estimator?"
   ]
  },
  {
   "cell_type": "markdown",
   "metadata": {},
   "source": []
  },
  {
   "cell_type": "code",
   "execution_count": 1,
   "metadata": {},
   "outputs": [],
   "source": [
    "import matplotlib.pyplot as plt # General plotting\n",
    "import matplotlib.image as mpimg # Loading img files"
   ]
  },
  {
   "cell_type": "code",
   "execution_count": null,
   "metadata": {},
   "outputs": [],
   "source": []
  }
 ],
 "metadata": {
  "kernelspec": {
   "display_name": "Python 3",
   "language": "python",
   "name": "python3"
  },
  "language_info": {
   "codemirror_mode": {
    "name": "ipython",
    "version": 3
   },
   "file_extension": ".py",
   "mimetype": "text/x-python",
   "name": "python",
   "nbconvert_exporter": "python",
   "pygments_lexer": "ipython3",
   "version": "3.7.3"
  }
 },
 "nbformat": 4,
 "nbformat_minor": 2
}
